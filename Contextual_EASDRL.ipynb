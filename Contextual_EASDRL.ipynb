{
  "nbformat": 4,
  "nbformat_minor": 0,
  "metadata": {
    "colab": {
      "provenance": [],
      "authorship_tag": "ABX9TyMHPFYxy/600ZGTUdTTXMGU",
      "include_colab_link": true
    },
    "kernelspec": {
      "name": "python3",
      "display_name": "Python 3"
    },
    "language_info": {
      "name": "python"
    },
    "accelerator": "GPU",
    "gpuClass": "standard"
  },
  "cells": [
    {
      "cell_type": "markdown",
      "metadata": {
        "id": "view-in-github",
        "colab_type": "text"
      },
      "source": [
        "<a href=\"https://colab.research.google.com/github/emadaghajanzadeh/AI-Search/blob/master/Contextual_EASDRL.ipynb\" target=\"_parent\"><img src=\"https://colab.research.google.com/assets/colab-badge.svg\" alt=\"Open In Colab\"/></a>"
      ]
    },
    {
      "cell_type": "code",
      "execution_count": 1,
      "metadata": {
        "colab": {
          "base_uri": "https://localhost:8080/"
        },
        "id": "nXjDbkXck0j4",
        "outputId": "a8475161-25ac-47c2-ba32-0e18aeca19d1"
      },
      "outputs": [
        {
          "output_type": "stream",
          "name": "stdout",
          "text": [
            "Cloning into 'contextual_drl'...\n",
            "remote: Enumerating objects: 2135, done.\u001b[K\n",
            "remote: Counting objects: 100% (57/57), done.\u001b[K\n",
            "remote: Compressing objects: 100% (57/57), done.\u001b[K\n",
            "remote: Total 2135 (delta 33), reused 0 (delta 0), pack-reused 2078\u001b[K\n",
            "Receiving objects: 100% (2135/2135), 603.76 MiB | 21.62 MiB/s, done.\n",
            "Resolving deltas: 100% (1105/1105), done.\n",
            "Checking out files: 100% (1081/1081), done.\n"
          ]
        }
      ],
      "source": [
        "!git clone https://github.com/Shivam-Miglani/contextual_drl.git"
      ]
    },
    {
      "cell_type": "code",
      "source": [
        "!pip install -r ./contextual_drl/requirements.txt"
      ],
      "metadata": {
        "colab": {
          "base_uri": "https://localhost:8080/"
        },
        "id": "MaY1HI4Sr7yU",
        "outputId": "5c0718e7-0cbf-40ef-9a1c-232df473c928"
      },
      "execution_count": 2,
      "outputs": [
        {
          "output_type": "stream",
          "name": "stdout",
          "text": [
            "Looking in indexes: https://pypi.org/simple, https://us-python.pkg.dev/colab-wheels/public/simple/\n",
            "Collecting absl-py==0.9.0\n",
            "  Downloading absl-py-0.9.0.tar.gz (104 kB)\n",
            "\u001b[K     |████████████████████████████████| 104 kB 15.7 MB/s \n",
            "\u001b[?25hRequirement already satisfied: alabaster==0.7.12 in /usr/local/lib/python3.8/dist-packages (from -r ./contextual_drl/requirements.txt (line 2)) (0.7.12)\n",
            "Collecting allennlp==0.9.0\n",
            "  Downloading allennlp-0.9.0-py3-none-any.whl (7.6 MB)\n",
            "\u001b[K     |████████████████████████████████| 7.6 MB 60.1 MB/s \n",
            "\u001b[?25hCollecting appnope==0.1.0\n",
            "  Downloading appnope-0.1.0-py2.py3-none-any.whl (4.0 kB)\n",
            "Requirement already satisfied: astor==0.8.1 in /usr/local/lib/python3.8/dist-packages (from -r ./contextual_drl/requirements.txt (line 5)) (0.8.1)\n",
            "Collecting attrs==19.3.0\n",
            "  Downloading attrs-19.3.0-py2.py3-none-any.whl (39 kB)\n",
            "Collecting Babel==2.8.0\n",
            "  Downloading Babel-2.8.0-py2.py3-none-any.whl (8.6 MB)\n",
            "\u001b[K     |████████████████████████████████| 8.6 MB 48.7 MB/s \n",
            "\u001b[?25hCollecting backcall==0.1.0\n",
            "  Downloading backcall-0.1.0.zip (11 kB)\n",
            "Collecting bleach==3.1.5\n",
            "  Downloading bleach-3.1.5-py2.py3-none-any.whl (151 kB)\n",
            "\u001b[K     |████████████████████████████████| 151 kB 70.0 MB/s \n",
            "\u001b[?25hCollecting blis==0.2.4\n",
            "  Downloading blis-0.2.4.tar.gz (1.5 MB)\n",
            "\u001b[K     |████████████████████████████████| 1.5 MB 42.6 MB/s \n",
            "\u001b[?25hCollecting boto==2.49.0\n",
            "  Downloading boto-2.49.0-py2.py3-none-any.whl (1.4 MB)\n",
            "\u001b[K     |████████████████████████████████| 1.4 MB 63.6 MB/s \n",
            "\u001b[?25hCollecting boto3==1.13.6\n",
            "  Downloading boto3-1.13.6-py2.py3-none-any.whl (128 kB)\n",
            "\u001b[K     |████████████████████████████████| 128 kB 75.6 MB/s \n",
            "\u001b[?25hCollecting botocore==1.16.6\n",
            "  Downloading botocore-1.16.6-py2.py3-none-any.whl (6.2 MB)\n",
            "\u001b[K     |████████████████████████████████| 6.2 MB 171 kB/s \n",
            "\u001b[?25hCollecting bpemb==0.3.0\n",
            "  Downloading bpemb-0.3.0-py3-none-any.whl (19 kB)\n",
            "Collecting certifi==2020.4.5.1\n",
            "  Downloading certifi-2020.4.5.1-py2.py3-none-any.whl (157 kB)\n",
            "\u001b[K     |████████████████████████████████| 157 kB 76.2 MB/s \n",
            "\u001b[?25hRequirement already satisfied: chardet==3.0.4 in /usr/local/lib/python3.8/dist-packages (from -r ./contextual_drl/requirements.txt (line 16)) (3.0.4)\n",
            "Requirement already satisfied: click==7.1.2 in /usr/local/lib/python3.8/dist-packages (from -r ./contextual_drl/requirements.txt (line 17)) (7.1.2)\n",
            "Collecting cloudpickle==1.4.1\n",
            "  Downloading cloudpickle-1.4.1-py3-none-any.whl (26 kB)\n",
            "Collecting conllu==1.3.1\n",
            "  Downloading conllu-1.3.1-py2.py3-none-any.whl (9.3 kB)\n",
            "Collecting cycler==0.10.0\n",
            "  Downloading cycler-0.10.0-py2.py3-none-any.whl (6.5 kB)\n",
            "Collecting cymem==2.0.3\n",
            "  Downloading cymem-2.0.3-cp38-cp38-manylinux1_x86_64.whl (33 kB)\n",
            "\u001b[31mERROR: Could not find a version that satisfies the requirement dataclasses==0.7 (from versions: 0.1, 0.2, 0.3, 0.4, 0.5, 0.6)\u001b[0m\n",
            "\u001b[31mERROR: No matching distribution found for dataclasses==0.7\u001b[0m\n"
          ]
        }
      ]
    },
    {
      "cell_type": "code",
      "source": [
        "! pip install ipython"
      ],
      "metadata": {
        "colab": {
          "base_uri": "https://localhost:8080/"
        },
        "id": "e0UNpMyVuqIp",
        "outputId": "2a61826a-63f9-4035-9085-6daa23761079"
      },
      "execution_count": 3,
      "outputs": [
        {
          "output_type": "stream",
          "name": "stdout",
          "text": [
            "Looking in indexes: https://pypi.org/simple, https://us-python.pkg.dev/colab-wheels/public/simple/\n",
            "Requirement already satisfied: ipython in /usr/local/lib/python3.8/dist-packages (7.9.0)\n",
            "Requirement already satisfied: pickleshare in /usr/local/lib/python3.8/dist-packages (from ipython) (0.7.5)\n",
            "Requirement already satisfied: prompt-toolkit<2.1.0,>=2.0.0 in /usr/local/lib/python3.8/dist-packages (from ipython) (2.0.10)\n",
            "Requirement already satisfied: pygments in /usr/local/lib/python3.8/dist-packages (from ipython) (2.6.1)\n",
            "Requirement already satisfied: backcall in /usr/local/lib/python3.8/dist-packages (from ipython) (0.2.0)\n",
            "Collecting jedi>=0.10\n",
            "  Downloading jedi-0.18.2-py2.py3-none-any.whl (1.6 MB)\n",
            "\u001b[K     |████████████████████████████████| 1.6 MB 15.7 MB/s \n",
            "\u001b[?25hRequirement already satisfied: setuptools>=18.5 in /usr/local/lib/python3.8/dist-packages (from ipython) (57.4.0)\n",
            "Requirement already satisfied: pexpect in /usr/local/lib/python3.8/dist-packages (from ipython) (4.8.0)\n",
            "Requirement already satisfied: traitlets>=4.2 in /usr/local/lib/python3.8/dist-packages (from ipython) (5.7.1)\n",
            "Requirement already satisfied: decorator in /usr/local/lib/python3.8/dist-packages (from ipython) (4.4.2)\n",
            "Requirement already satisfied: parso<0.9.0,>=0.8.0 in /usr/local/lib/python3.8/dist-packages (from jedi>=0.10->ipython) (0.8.3)\n",
            "Requirement already satisfied: wcwidth in /usr/local/lib/python3.8/dist-packages (from prompt-toolkit<2.1.0,>=2.0.0->ipython) (0.2.5)\n",
            "Requirement already satisfied: six>=1.9.0 in /usr/local/lib/python3.8/dist-packages (from prompt-toolkit<2.1.0,>=2.0.0->ipython) (1.15.0)\n",
            "Requirement already satisfied: ptyprocess>=0.5 in /usr/local/lib/python3.8/dist-packages (from pexpect->ipython) (0.7.0)\n",
            "Installing collected packages: jedi\n",
            "Successfully installed jedi-0.18.2\n"
          ]
        }
      ]
    },
    {
      "cell_type": "code",
      "source": [
        "%run ./contextual_drl/NLtoPDDL-Example_NASA.ipynb"
      ],
      "metadata": {
        "colab": {
          "base_uri": "https://localhost:8080/",
          "height": 707
        },
        "id": "CQAo5oGUtLdv",
        "outputId": "300fc1d1-171c-40b5-d654-0d9e312e5d7b"
      },
      "execution_count": 4,
      "outputs": [
        {
          "output_type": "stream",
          "name": "stdout",
          "text": [
            "NASA Curiosity Mission\n",
            "Before Curiosity can explore Mars, it has to get there first.\n",
            "The last stage of the launch vehicle gives the spacecraft a final push and spins it up for our eight-and-a-half month cruise to the red planet.\n",
            "10 minutes before hitting the atmosphere the cruise stage separates and final preparations for entry begin.\n",
            "Hitting the atmosphere at about 13,000 miles per hour, the spacecraft begins to slow down. While slowing down, the spacecraft uses thrusters to help steer toward the landing target.\n",
            "We throw off weights to rebalance the spacecraft, so that it’s lined for parachute deploy. After slowing to about Mach 2, or about 1000 miles per hour, we deploy the parachute to slow down even further.\n",
            "Once we are below the speed of sound, the heat shield separates and the spacecraft looks for the ground with the landing radar.\n",
            "Once we reach an altitude of about 1 mile, the spacecraft drops out of the back-shell at about 200 miles an hour. It then fires up the landing engine to slow it down even further.\n",
            "Once we’ve descended to about 60 feet above the ground, and going only about 2 miles per hour, the rover separates from the descent stage. As the rover is lowered, the wheels deploy in preparation for landing.\n",
            "Once the rover is safely on the ground, and touchdown has been detected, the descent stage cuts the rover loose. It flies away leaving Curiosity safe on the surface of Mars.\n",
            "One of the first things Curiosity does after landing is to deploy the mast, which supports many cameras and instruments. Curiosity shoots a laser at an interesting target. This helps us quickly understand the kind and\n",
            "composition of that target from a distance of up to 30 feet.\n",
            "If the target is worth a closer look, Curiosity can drive up and inspect it with instruments and tools at the end of its arm.\n",
            "The drill on the arm allows us to grab some of that rock and deliver it to the laboratory instruments inside the body of the rover.\n",
            "Those instruments can tell us even more about the mineral composition, getting us closer to understanding whether life could have existed on Mars.\n",
            "Curiosity will be exploring the red planet for at least 2 years and there’s no telling what we will discover.\n",
            "\n"
          ]
        },
        {
          "output_type": "error",
          "ename": "ModuleNotFoundError",
          "evalue": "ignored",
          "traceback": [
            "\u001b[0;31m---------------------------------------------------------------------------\u001b[0m",
            "\u001b[0;31mModuleNotFoundError\u001b[0m                       Traceback (most recent call last)",
            "\u001b[0;32m/content/contextual_drl/NLtoPDDL-Example_NASA.ipynb\u001b[0m in \u001b[0;36m<module>\u001b[0;34m\u001b[0m\n\u001b[1;32m      1\u001b[0m \u001b[0;32mimport\u001b[0m \u001b[0mspacy\u001b[0m\u001b[0;34m\u001b[0m\u001b[0;34m\u001b[0m\u001b[0m\n\u001b[0;32m----> 2\u001b[0;31m \u001b[0;32mimport\u001b[0m \u001b[0mneuralcoref\u001b[0m\u001b[0;34m\u001b[0m\u001b[0;34m\u001b[0m\u001b[0m\n\u001b[0m\u001b[1;32m      3\u001b[0m \u001b[0;34m\u001b[0m\u001b[0m\n\u001b[1;32m      4\u001b[0m \u001b[0mnlp\u001b[0m \u001b[0;34m=\u001b[0m \u001b[0mspacy\u001b[0m\u001b[0;34m.\u001b[0m\u001b[0mload\u001b[0m\u001b[0;34m(\u001b[0m\u001b[0;34m'en_core_web_sm'\u001b[0m\u001b[0;34m)\u001b[0m\u001b[0;34m\u001b[0m\u001b[0;34m\u001b[0m\u001b[0m\n\u001b[1;32m      5\u001b[0m \u001b[0mneuralcoref\u001b[0m\u001b[0;34m.\u001b[0m\u001b[0madd_to_pipe\u001b[0m\u001b[0;34m(\u001b[0m\u001b[0mnlp\u001b[0m\u001b[0;34m)\u001b[0m\u001b[0;34m\u001b[0m\u001b[0;34m\u001b[0m\u001b[0m\n",
            "\u001b[0;31mModuleNotFoundError\u001b[0m: No module named 'neuralcoref'",
            "",
            "\u001b[0;31m---------------------------------------------------------------------------\u001b[0;32m\nNOTE: If your import is failing due to a missing package, you can\nmanually install dependencies using either !pip or !apt.\n\nTo view examples of installing some common dependencies, click the\n\"Open Examples\" button below.\n\u001b[0;31m---------------------------------------------------------------------------\u001b[0m\n"
          ],
          "errorDetails": {
            "actions": [
              {
                "action": "open_url",
                "actionText": "Open Examples",
                "url": "/notebooks/snippets/importing_libraries.ipynb"
              }
            ]
          }
        }
      ]
    }
  ]
}